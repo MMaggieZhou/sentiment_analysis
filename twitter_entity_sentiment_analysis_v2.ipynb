{
 "cells": [
  {
   "cell_type": "markdown",
   "id": "017cfcab-876c-4b49-a263-68bb11fab6f0",
   "metadata": {},
   "source": [
    "# Goal \n",
    "Leverage Entity in [previous sentiment analysis](https://github.com/MMaggieZhou/sentiment_analysis/blob/main/twitter_entity_sentiment_analysis.ipynb)"
   ]
  },
  {
   "cell_type": "code",
   "execution_count": 1,
   "id": "2cb0a629-34e7-43bd-84bd-c1c00d3403e4",
   "metadata": {},
   "outputs": [],
   "source": [
    "import pandas as pd\n",
    "from sklearn.feature_extraction.text import TfidfVectorizer\n",
    "from sklearn.linear_model import LogisticRegression\n",
    "from sklearn.preprocessing import LabelEncoder\n",
    "from sklearn.model_selection import train_test_split\n",
    "from sklearn.metrics import accuracy_score\n",
    "from sklearn.svm import SVC\n",
    "from sklearn.naive_bayes import MultinomialNB\n",
    "import joblib\n",
    "import spacy"
   ]
  },
  {
   "cell_type": "markdown",
   "id": "ee1a188b-5810-4f9a-aff7-f5e9384c0ef8",
   "metadata": {},
   "source": [
    "# Load, Clean and Preprocess Data (same as v1)"
   ]
  },
  {
   "cell_type": "code",
   "execution_count": 4,
   "id": "0eafa2ae-bf78-4b63-8e89-6e41f6654318",
   "metadata": {},
   "outputs": [],
   "source": [
    "def load_data(file): \n",
    "    return pd.read_csv(file, names=['id', 'entity', 'label', 'text']).set_index('id')\n",
    "\n",
    "nlp = spacy.load(\"en_core_web_sm\")\n",
    "def preprocesss_text(text):\n",
    "    doc = nlp(text)\n",
    "    ret = []\n",
    "    for token in doc:\n",
    "        if token.is_stop: \n",
    "            continue \n",
    "        ret.append(token.lemma_)\n",
    "    return ' '.join(ret)\n",
    "    \n",
    "label_encoder = LabelEncoder()\n",
    "def preprocess(df, training): \n",
    "    if training: \n",
    "        df['label_num'] = label_encoder.fit_transform(df['label'])\n",
    "    else: \n",
    "        df['label_num'] = label_encoder.transform(df['label'])\n",
    "    df['text_processed'] = df['text'].apply(preprocesss_text)\n",
    "    return df.drop_duplicates().dropna()\n",
    "\n",
    "training_df = load_data(\"~/sentiment_analysis/archive/twitter_training.csv\")\n",
    "training_df = training_df.drop_duplicates().dropna()\n",
    "training_df = preprocess(training_df, training=True)\n",
    "test_df = load_data(\"~/sentiment_analysis/archive/twitter_validation.csv\")\n",
    "test_df = test_df.drop_duplicates().dropna()\n",
    "test_df = preprocess(test_df, training=False)"
   ]
  },
  {
   "cell_type": "code",
   "execution_count": 5,
   "id": "67f9f58e-7709-4c62-ae7b-d875890c729e",
   "metadata": {},
   "outputs": [],
   "source": [
    "training_df.to_csv(\"~/sentiment_analysis/archive/training_preprocessed.csv\")\n",
    "test_df.to_csv(\"~/sentiment_analysis/archive/test_preprocessed.csv\")"
   ]
  },
  {
   "cell_type": "code",
   "execution_count": 6,
   "id": "366a89a6-fba5-4ce6-a285-318a6d985fc2",
   "metadata": {},
   "outputs": [
    {
     "name": "stdout",
     "output_type": "stream",
     "text": [
      "<class 'pandas.core.frame.DataFrame'>\n",
      "Index: 70958 entries, 2401 to 9200\n",
      "Data columns (total 5 columns):\n",
      " #   Column          Non-Null Count  Dtype \n",
      "---  ------          --------------  ----- \n",
      " 0   entity          70958 non-null  object\n",
      " 1   label           70958 non-null  object\n",
      " 2   text            70958 non-null  object\n",
      " 3   label_num       70958 non-null  int64 \n",
      " 4   text_processed  70958 non-null  object\n",
      "dtypes: int64(1), object(4)\n",
      "memory usage: 3.2+ MB\n",
      "<class 'pandas.core.frame.DataFrame'>\n",
      "Index: 1000 entries, 3364 to 6960\n",
      "Data columns (total 5 columns):\n",
      " #   Column          Non-Null Count  Dtype \n",
      "---  ------          --------------  ----- \n",
      " 0   entity          1000 non-null   object\n",
      " 1   label           1000 non-null   object\n",
      " 2   text            1000 non-null   object\n",
      " 3   label_num       1000 non-null   int64 \n",
      " 4   text_processed  1000 non-null   object\n",
      "dtypes: int64(1), object(4)\n",
      "memory usage: 46.9+ KB\n"
     ]
    }
   ],
   "source": [
    "training_df.info()\n",
    "test_df.info()"
   ]
  },
  {
   "cell_type": "code",
   "execution_count": 7,
   "id": "2e6fbb71-a511-4415-aab2-102b598983d7",
   "metadata": {},
   "outputs": [],
   "source": [
    "vectorizer = TfidfVectorizer()\n",
    "training_text_encoded = vectorizer.fit_transform(training_df['text_processed'])\n",
    "test_text_encoded = vectorizer.transform(test_df['text_processed'])"
   ]
  },
  {
   "cell_type": "markdown",
   "id": "a5d3d57a-a58c-42b0-818f-6a68cf473653",
   "metadata": {},
   "source": [
    "# Encode Entity"
   ]
  },
  {
   "cell_type": "code",
   "execution_count": 8,
   "id": "79740f74-1a53-48a9-b573-280efa774cbd",
   "metadata": {},
   "outputs": [],
   "source": [
    "# process entity \n",
    "from sklearn.preprocessing import OneHotEncoder\n",
    "oh_encoder = OneHotEncoder(handle_unknown='ignore')\n",
    "oh_encoder.fit(training_df[['entity']])\n",
    "training_entity_encoded = oh_encoder.transform(training_df[['entity']])\n",
    "test_entity_encoded = oh_encoder.transform(test_df[['entity']])"
   ]
  },
  {
   "cell_type": "markdown",
   "id": "0b251826-9f55-43ab-ad19-5c0f6c7c453a",
   "metadata": {},
   "source": [
    "# Combine Entity Encoding and Text Encoding"
   ]
  },
  {
   "cell_type": "code",
   "execution_count": 9,
   "id": "1d7f1780-7cb1-4fb1-a2ff-c9bb73c0de60",
   "metadata": {},
   "outputs": [],
   "source": [
    "from scipy.sparse import hstack\n",
    "training_X = hstack([training_text_encoded, training_entity_encoded])\n",
    "test_X = hstack([test_text_encoded, test_entity_encoded])"
   ]
  },
  {
   "cell_type": "markdown",
   "id": "5eee886f-dece-4119-8a2e-c69914df5247",
   "metadata": {},
   "source": [
    "# Model Training and Evaluation"
   ]
  },
  {
   "cell_type": "code",
   "execution_count": 12,
   "id": "6bfcad5c-8787-4859-8abd-83b0df962a7b",
   "metadata": {},
   "outputs": [],
   "source": [
    "models = {\n",
    "    #'NaiveBayes': MultinomialNB(),\n",
    "    'LogisticRegression': LogisticRegression(max_iter=1000),\n",
    "    'SVM': SVC(kernel='linear', C=1),\n",
    "}"
   ]
  },
  {
   "cell_type": "code",
   "execution_count": 13,
   "id": "09a6b3a2-7d9b-47f0-a608-006017ad8541",
   "metadata": {},
   "outputs": [],
   "source": [
    "for model in models.values(): \n",
    "    model.fit(training_X, training_df['label_num'])"
   ]
  },
  {
   "cell_type": "code",
   "execution_count": 15,
   "id": "1b6f1bd8-0b97-4e23-a332-24402fd2d43f",
   "metadata": {},
   "outputs": [
    {
     "name": "stdout",
     "output_type": "stream",
     "text": [
      "LogisticRegression  training score (bias):  86.36376448039685 ; testing score (variance):  90.10000000000001\n",
      "SVM  training score (bias):  89.94757462160715 ; testing score (variance):  93.30000000000001\n"
     ]
    }
   ],
   "source": [
    "for name, model in models.items():\n",
    "    training_score = model.score(training_X, training_df['label_num'])\n",
    "    testing_score = model.score(test_X, test_df['label_num'])\n",
    "    print(name, ' training score (bias): ', training_score * 100, '; testing score (variance): ', testing_score * 100)"
   ]
  },
  {
   "cell_type": "markdown",
   "id": "dc5d5421-c620-42db-a731-d0c26f74421a",
   "metadata": {},
   "source": [
    "**Results from v1**\n",
    "\n",
    "LogisticRegression  training score (bias):  85.8972913554497 ; testing score (variance):  90.5\n",
    "\n",
    "SVM  training score (bias):  89.15132895515657 ; testing score (variance):  93.60000000000001"
   ]
  }
 ],
 "metadata": {
  "kernelspec": {
   "display_name": "Python 3 (ipykernel)",
   "language": "python",
   "name": "python3"
  },
  "language_info": {
   "codemirror_mode": {
    "name": "ipython",
    "version": 3
   },
   "file_extension": ".py",
   "mimetype": "text/x-python",
   "name": "python",
   "nbconvert_exporter": "python",
   "pygments_lexer": "ipython3",
   "version": "3.11.6"
  }
 },
 "nbformat": 4,
 "nbformat_minor": 5
}
