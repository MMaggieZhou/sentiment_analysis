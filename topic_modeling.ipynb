{
 "cells": [
  {
   "cell_type": "markdown",
   "id": "c5b46231-9352-4d8a-a72a-39c6f2141d5d",
   "metadata": {},
   "source": [
    "# Topic Modeling"
   ]
  },
  {
   "cell_type": "markdown",
   "id": "b48aff8f-5c65-4d1c-ba5a-2b672ed86d6d",
   "metadata": {},
   "source": [
    "# Goal \n",
    "Understand themes in negatives tweets about an entity"
   ]
  },
  {
   "cell_type": "markdown",
   "id": "0574cb4e-faf8-47c5-9f5a-2bef85f835b2",
   "metadata": {},
   "source": [
    "## Data Prepration"
   ]
  },
  {
   "cell_type": "code",
   "execution_count": 40,
   "id": "298d64d5-f485-4a91-a47f-17e85ef24b42",
   "metadata": {},
   "outputs": [
    {
     "name": "stderr",
     "output_type": "stream",
     "text": [
      "[nltk_data] Downloading package punkt to\n",
      "[nltk_data]     /Users/mengqizhou/nltk_data...\n",
      "[nltk_data]   Package punkt is already up-to-date!\n",
      "[nltk_data] Downloading package stopwords to\n",
      "[nltk_data]     /Users/mengqizhou/nltk_data...\n",
      "[nltk_data]   Package stopwords is already up-to-date!\n",
      "[nltk_data] Downloading package punkt_tab to\n",
      "[nltk_data]     /Users/mengqizhou/nltk_data...\n",
      "[nltk_data]   Package punkt_tab is already up-to-date!\n"
     ]
    }
   ],
   "source": [
    "import pandas as pd\n",
    "from gensim import corpora, models\n",
    "from nltk.tokenize import word_tokenize\n",
    "from nltk.corpus import stopwords\n",
    "import nltk\n",
    "import pyLDAvis.gensim_models as gensimvis\n",
    "import pyLDAvis\n",
    "import ssl\n",
    "\n",
    "try:\n",
    "    _create_unverified_https_context = ssl._create_unverified_context\n",
    "except AttributeError:\n",
    "    pass\n",
    "else:\n",
    "    ssl._create_default_https_context = _create_unverified_https_context\n",
    "    \n",
    "nltk.download('punkt')\n",
    "nltk.download('stopwords')\n",
    "nltk.download('punkt_tab')\n",
    "pyLDAvis.enable_notebook()"
   ]
  },
  {
   "cell_type": "code",
   "execution_count": 41,
   "id": "1558b937-4e18-4395-a242-5d39561e245e",
   "metadata": {},
   "outputs": [],
   "source": [
    "df = pd.read_csv('~/sentiment_analysis/archive/twitter_training_preprocessed.csv') \n",
    "df = df.dropna()\n",
    "grouped_df = df.groupby('entity')"
   ]
  },
  {
   "cell_type": "markdown",
   "id": "c73e8355-84e2-4838-bad7-eecdd604f8ce",
   "metadata": {},
   "source": [
    "## Topic Modeling With Latent Dirichlet Allocation(LDA)"
   ]
  },
  {
   "cell_type": "code",
   "execution_count": 43,
   "id": "a1c91730-671e-46fe-af57-a74721da3849",
   "metadata": {},
   "outputs": [],
   "source": [
    "from collections import Counter\n",
    "\n",
    "stop_words = set(stopwords.words('english'))\n",
    "def find_topics(group): \n",
    "    processed_docs = [\n",
    "        [word.lower() for word in word_tokenize(doc) if word.isalpha() and word.lower() not in stop_words]\n",
    "        for doc in group[group['label']=='Negative']['text_processed']\n",
    "    ]\n",
    "    print('length of negative tweets: ', len(processed_docs))\n",
    "    dictionary = corpora.Dictionary(processed_docs)\n",
    "    # Create Corpus: Term Document Frequency\n",
    "    corpus = [dictionary.doc2bow(doc) for doc in processed_docs]\n",
    "    \n",
    "    lda_model = models.LdaModel(\n",
    "        corpus=corpus,\n",
    "        id2word=dictionary,\n",
    "        num_topics=10,  # Number of topics\n",
    "        random_state=42,\n",
    "        passes=10,\n",
    "        alpha='auto',\n",
    "        per_word_topics=True\n",
    "    )\n",
    "    print(\"\\nTopics:\")\n",
    "    for idx, topic in lda_model.print_topics(-1):\n",
    "        print(f\"Topic {idx}: {topic}\")\n",
    "\n",
    "    topic_counts = Counter()\n",
    "    for doc_bow in corpus:\n",
    "        topic_distribution = lda_model.get_document_topics(doc_bow)\n",
    "        for topic_id, prob in topic_distribution:\n",
    "            topic_counts[topic_id] += prob\n",
    "    sorted_topic_counts = sorted(topic_counts.items(), key=lambda x: x[1], reverse=True)\n",
    "    print(\"Topic Frequencies:\")\n",
    "    for topic_id, freq in sorted_topic_counts:\n",
    "        print(f\"Topic {topic_id}: {freq:.2f}\")\n",
    "    lda_vis = gensimvis.prepare(lda_model, corpus, dictionary)\n",
    "    pyLDAvis.show(lda_vis, local=False)\n",
    "    print('------------------------------------------------------------')\n",
    "    \n",
    "def process_group(entity, group): \n",
    "    print('Entity', entity)\n",
    "    find_topics(group)"
   ]
  },
  {
   "cell_type": "code",
   "execution_count": 44,
   "id": "eade969e-9e4d-4f23-972f-44d9b1718754",
   "metadata": {},
   "outputs": [
    {
     "name": "stdout",
     "output_type": "stream",
     "text": [
      "Entity MaddenNFL\n",
      "length of negative tweets:  1630\n",
      "\n",
      "Topics:\n",
      "Topic 0: 0.058*\"eamaddennfl\" + 0.036*\"game\" + 0.024*\"easports\" + 0.021*\"like\" + 0.017*\"nfl\" + 0.016*\"madden\" + 0.013*\"play\" + 0.012*\"k\" + 0.010*\"well\" + 0.010*\"break\"\n",
      "Topic 1: 0.048*\"eamaddennfl\" + 0.030*\"year\" + 0.029*\"shit\" + 0.027*\"madden\" + 0.025*\"rhandlerr\" + 0.021*\"need\" + 0.020*\"suck\" + 0.016*\"ea\" + 0.014*\"time\" + 0.014*\"game\"\n",
      "Topic 2: 0.053*\"eamaddennfl\" + 0.040*\"play\" + 0.024*\"year\" + 0.023*\"garbage\" + 0.020*\"game\" + 0.015*\"madden\" + 0.014*\"like\" + 0.013*\"ass\" + 0.011*\"fucking\" + 0.010*\"easports\"\n",
      "Topic 3: 0.096*\"eamaddennfl\" + 0.023*\"know\" + 0.018*\"trash\" + 0.017*\"profane\" + 0.016*\"ea\" + 0.014*\"nfl\" + 0.014*\"let\" + 0.013*\"franchise\" + 0.012*\"joke\" + 0.010*\"defense\"\n",
      "Topic 4: 0.061*\"eamaddennfl\" + 0.025*\"game\" + 0.017*\"disrespect\" + 0.016*\"easports\" + 0.016*\"player\" + 0.014*\"man\" + 0.012*\"stupid\" + 0.012*\"fix\" + 0.011*\"get\" + 0.011*\"play\"\n",
      "Topic 5: 0.082*\"game\" + 0.078*\"eamaddennfl\" + 0.025*\"fix\" + 0.018*\"year\" + 0.013*\"guy\" + 0.013*\"bad\" + 0.013*\"get\" + 0.012*\"play\" + 0.012*\"madden\" + 0.012*\"know\"\n",
      "Topic 6: 0.107*\"eamaddennfl\" + 0.025*\"game\" + 0.020*\"server\" + 0.016*\"fix\" + 0.015*\"wtf\" + 0.012*\"get\" + 0.012*\"pass\" + 0.011*\"hour\" + 0.011*\"win\" + 0.010*\"catch\"\n",
      "Topic 7: 0.042*\"fuck\" + 0.036*\"madden\" + 0.035*\"eamaddennfl\" + 0.019*\"trash\" + 0.018*\"game\" + 0.017*\"football\" + 0.013*\"speed\" + 0.012*\"crazy\" + 0.011*\"rating\" + 0.011*\"fucking\"\n",
      "Topic 8: 0.053*\"eamaddennfl\" + 0.038*\"rhandlerr\" + 0.029*\"madden\" + 0.015*\"watch\" + 0.015*\"easports\" + 0.015*\"mut\" + 0.015*\"team\" + 0.014*\"man\" + 0.013*\"eahelp\" + 0.012*\"like\"\n",
      "Topic 9: 0.056*\"eamaddennfl\" + 0.030*\"unk\" + 0.028*\"nfl\" + 0.026*\"go\" + 0.023*\"ea\" + 0.017*\"year\" + 0.015*\"server\" + 0.015*\"game\" + 0.015*\"wrong\" + 0.012*\"madden\"\n",
      "Topic Frequencies:\n",
      "Topic 5: 312.92\n",
      "Topic 6: 209.80\n",
      "Topic 1: 159.52\n",
      "Topic 2: 139.57\n",
      "Topic 9: 138.38\n",
      "Topic 0: 130.50\n",
      "Topic 7: 126.84\n",
      "Topic 3: 122.99\n",
      "Topic 8: 122.91\n",
      "Topic 4: 114.22\n",
      "Serving to http://127.0.0.1:8889/    [Ctrl-C to exit]\n"
     ]
    },
    {
     "name": "stderr",
     "output_type": "stream",
     "text": [
      "127.0.0.1 - - [04/Jan/2025 17:16:02] \"GET / HTTP/1.1\" 200 -\n"
     ]
    },
    {
     "name": "stdout",
     "output_type": "stream",
     "text": [
      "\n",
      "stopping Server...\n",
      "------------------------------------------------------------\n"
     ]
    }
   ],
   "source": [
    "process_group('MaddenNFL', grouped_df.get_group('MaddenNFL'))   "
   ]
  },
  {
   "cell_type": "code",
   "execution_count": null,
   "id": "2f9e98dc-4e4f-49d1-a2a3-2203babe0053",
   "metadata": {},
   "outputs": [],
   "source": []
  }
 ],
 "metadata": {
  "kernelspec": {
   "display_name": "Python 3 (ipykernel)",
   "language": "python",
   "name": "python3"
  },
  "language_info": {
   "codemirror_mode": {
    "name": "ipython",
    "version": 3
   },
   "file_extension": ".py",
   "mimetype": "text/x-python",
   "name": "python",
   "nbconvert_exporter": "python",
   "pygments_lexer": "ipython3",
   "version": "3.11.6"
  }
 },
 "nbformat": 4,
 "nbformat_minor": 5
}
