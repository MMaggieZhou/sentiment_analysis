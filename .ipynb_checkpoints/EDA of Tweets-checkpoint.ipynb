{
 "cells": [
  {
   "cell_type": "markdown",
   "id": "f2a34086-86ec-4c81-b47f-fa906dc0dd05",
   "metadata": {},
   "source": [
    "# EDA Understand Negative Sentiment Per Entity "
   ]
  },
  {
   "cell_type": "code",
   "execution_count": 133,
   "id": "083057dd-342b-4b95-97fb-10f395974bf8",
   "metadata": {},
   "outputs": [],
   "source": [
    "import pandas as pd\n",
    "from sklearn.preprocessing import OrdinalEncoder\n",
    "from sklearn.feature_extraction.text import CountVectorizer\n",
    "from scipy.stats import pearsonr"
   ]
  },
  {
   "cell_type": "markdown",
   "id": "db26dcdc-832e-4ad8-b19f-5bc1a7d389a5",
   "metadata": {},
   "source": [
    "# Load Previously Processed Data "
   ]
  },
  {
   "cell_type": "code",
   "execution_count": 134,
   "id": "8face3fa-dff9-4841-bb3a-bb309f0ca83c",
   "metadata": {},
   "outputs": [],
   "source": [
    "processed_df = pd.read_csv('~/sentiment_analysis/archive/twitter_training_preprocessed.csv') "
   ]
  },
  {
   "cell_type": "code",
   "execution_count": 135,
   "id": "005dc582-62a2-48ab-9ffd-d8cf1310c547",
   "metadata": {},
   "outputs": [
    {
     "name": "stdout",
     "output_type": "stream",
     "text": [
      "<class 'pandas.core.frame.DataFrame'>\n",
      "RangeIndex: 70958 entries, 0 to 70957\n",
      "Data columns (total 7 columns):\n",
      " #   Column          Non-Null Count  Dtype \n",
      "---  ------          --------------  ----- \n",
      " 0   id              70958 non-null  int64 \n",
      " 1   entity          70958 non-null  object\n",
      " 2   label           70958 non-null  object\n",
      " 3   text            70958 non-null  object\n",
      " 4   label_num       70958 non-null  int64 \n",
      " 5   text_processed  69892 non-null  object\n",
      " 6   combined        70958 non-null  object\n",
      "dtypes: int64(2), object(5)\n",
      "memory usage: 3.8+ MB\n"
     ]
    }
   ],
   "source": [
    "processed_df.info()"
   ]
  },
  {
   "cell_type": "code",
   "execution_count": 136,
   "id": "819df6c6-f9bb-4c8b-aa35-315a4fc43b31",
   "metadata": {},
   "outputs": [
    {
     "data": {
      "text/plain": [
       "entity\n",
       "CallOfDuty                           2304\n",
       "Verizon                              2301\n",
       "MaddenNFL                            2294\n",
       "NBA2K                                2290\n",
       "TomClancysRainbowSix                 2287\n",
       "Facebook                             2280\n",
       "Microsoft                            2278\n",
       "TomClancysGhostRecon                 2263\n",
       "WorldOfCraft                         2248\n",
       "johnson&johnson                      2247\n",
       "ApexLegends                          2246\n",
       "Battlefield                          2236\n",
       "CallOfDutyBlackopsColdWar            2233\n",
       "LeagueOfLegends                      2228\n",
       "FIFA                                 2224\n",
       "Dota2                                2218\n",
       "Amazon                               2213\n",
       "Overwatch                            2208\n",
       "Hearthstone                          2201\n",
       "GrandTheftAuto(GTA)                  2201\n",
       "HomeDepot                            2199\n",
       "Borderlands                          2192\n",
       "Google                               2188\n",
       "PlayStation5(PS5)                    2177\n",
       "Nvidia                               2177\n",
       "CS-GO                                2169\n",
       "Xbox(Xseries)                        2167\n",
       "Fortnite                             2162\n",
       "Cyberpunk2077                        2146\n",
       "AssassinsCreed                       2145\n",
       "RedDeadRedemption(RDR)               2124\n",
       "PlayerUnknownsBattlegrounds(PUBG)    2112\n",
       "Name: count, dtype: int64"
      ]
     },
     "execution_count": 136,
     "metadata": {},
     "output_type": "execute_result"
    }
   ],
   "source": [
    "processed_df['entity'].value_counts()"
   ]
  },
  {
   "cell_type": "markdown",
   "id": "d44d8fb2-b43d-4912-a54f-20f9c0d66061",
   "metadata": {},
   "source": [
    "# Filter Out Irrelevant Data "
   ]
  },
  {
   "cell_type": "code",
   "execution_count": 137,
   "id": "0d098c5f-eb70-4d19-86f9-9673999fe644",
   "metadata": {},
   "outputs": [],
   "source": [
    "processed_df = processed_df[processed_df['label'] != 'Irrelevant']"
   ]
  },
  {
   "cell_type": "markdown",
   "id": "b83aab34-baba-4d40-8566-bf4329646bcb",
   "metadata": {},
   "source": [
    "# Apply Ordinal Encoding To Label "
   ]
  },
  {
   "cell_type": "code",
   "execution_count": 138,
   "id": "4005070a-b05c-4e9e-b09e-5a8714b5278c",
   "metadata": {},
   "outputs": [],
   "source": [
    "encoder = OrdinalEncoder(categories=[['Negative', 'Neutral', 'Positive']])\n",
    "processed_df['encoded_label'] = encoder.fit_transform(processed_df[['label']]) #?"
   ]
  },
  {
   "cell_type": "markdown",
   "id": "78892dc4-a58c-4ea0-9f3c-2e1bc7ec6858",
   "metadata": {},
   "source": [
    "# Group by entity "
   ]
  },
  {
   "cell_type": "code",
   "execution_count": 139,
   "id": "13cb6904-32d2-4def-bf68-247dcdc29711",
   "metadata": {},
   "outputs": [],
   "source": [
    "processed_grouped_df = processed_df.groupby('entity')"
   ]
  },
  {
   "cell_type": "code",
   "execution_count": 140,
   "id": "04721e65-3283-4cbf-b94d-25fabd7e2e8b",
   "metadata": {},
   "outputs": [
    {
     "name": "stdout",
     "output_type": "stream",
     "text": [
      "entity:  Amazon\n",
      "label\n",
      "Neutral     1165\n",
      "Negative     564\n",
      "Positive     302\n",
      "Name: count, dtype: int64\n",
      "entity:  ApexLegends\n",
      "label\n",
      "Neutral     897\n",
      "Positive    598\n",
      "Negative    568\n",
      "Name: count, dtype: int64\n",
      "entity:  AssassinsCreed\n",
      "label\n",
      "Positive    1372\n",
      "Negative     364\n",
      "Neutral      153\n",
      "Name: count, dtype: int64\n",
      "entity:  Battlefield\n",
      "label\n",
      "Positive    556\n",
      "Negative    439\n",
      "Neutral     335\n",
      "Name: count, dtype: int64\n",
      "entity:  Borderlands\n",
      "label\n",
      "Positive    961\n",
      "Neutral     578\n",
      "Negative    415\n",
      "Name: count, dtype: int64\n",
      "entity:  CS-GO\n",
      "label\n",
      "Positive    705\n",
      "Neutral     513\n",
      "Negative    334\n",
      "Name: count, dtype: int64\n",
      "entity:  CallOfDuty\n",
      "label\n",
      "Negative    855\n",
      "Positive    425\n",
      "Neutral     365\n",
      "Name: count, dtype: int64\n",
      "entity:  CallOfDutyBlackopsColdWar\n",
      "label\n",
      "Positive    816\n",
      "Negative    537\n",
      "Neutral     337\n",
      "Name: count, dtype: int64\n",
      "entity:  Cyberpunk2077\n",
      "label\n",
      "Positive    889\n",
      "Neutral     453\n",
      "Negative    360\n",
      "Name: count, dtype: int64\n",
      "entity:  Dota2\n",
      "label\n",
      "Negative    700\n",
      "Neutral     579\n",
      "Positive    538\n",
      "Name: count, dtype: int64\n",
      "entity:  FIFA\n",
      "label\n",
      "Negative    1119\n",
      "Positive     468\n",
      "Neutral      100\n",
      "Name: count, dtype: int64\n",
      "entity:  Facebook\n",
      "label\n",
      "Neutral     771\n",
      "Negative    685\n",
      "Positive    154\n",
      "Name: count, dtype: int64\n",
      "entity:  Fortnite\n",
      "label\n",
      "Negative    673\n",
      "Positive    518\n",
      "Neutral     156\n",
      "Name: count, dtype: int64\n",
      "entity:  Google\n",
      "label\n",
      "Neutral     778\n",
      "Negative    569\n",
      "Positive    339\n",
      "Name: count, dtype: int64\n",
      "entity:  GrandTheftAuto(GTA)\n",
      "label\n",
      "Positive    589\n",
      "Negative    570\n",
      "Neutral     297\n",
      "Name: count, dtype: int64\n",
      "entity:  Hearthstone\n",
      "label\n",
      "Positive    799\n",
      "Neutral     672\n",
      "Negative    512\n",
      "Name: count, dtype: int64\n",
      "entity:  HomeDepot\n",
      "label\n",
      "Negative    868\n",
      "Positive    717\n",
      "Neutral     330\n",
      "Name: count, dtype: int64\n",
      "entity:  LeagueOfLegends\n",
      "label\n",
      "Neutral     743\n",
      "Negative    608\n",
      "Positive    579\n",
      "Name: count, dtype: int64\n",
      "entity:  MaddenNFL\n",
      "label\n",
      "Negative    1647\n",
      "Positive     373\n",
      "Neutral      188\n",
      "Name: count, dtype: int64\n",
      "entity:  Microsoft\n",
      "label\n",
      "Neutral     797\n",
      "Negative    742\n",
      "Positive    573\n",
      "Name: count, dtype: int64\n",
      "entity:  NBA2K\n",
      "label\n",
      "Negative    1445\n",
      "Positive     407\n",
      "Neutral      263\n",
      "Name: count, dtype: int64\n",
      "entity:  Nvidia\n",
      "label\n",
      "Neutral     840\n",
      "Positive    752\n",
      "Negative    499\n",
      "Name: count, dtype: int64\n",
      "entity:  Overwatch\n",
      "label\n",
      "Positive    684\n",
      "Negative    604\n",
      "Neutral     281\n",
      "Name: count, dtype: int64\n",
      "entity:  PlayStation5(PS5)\n",
      "label\n",
      "Positive    889\n",
      "Neutral     485\n",
      "Negative    422\n",
      "Name: count, dtype: int64\n",
      "entity:  PlayerUnknownsBattlegrounds(PUBG)\n",
      "label\n",
      "Negative    639\n",
      "Positive    367\n",
      "Neutral     251\n",
      "Name: count, dtype: int64\n",
      "entity:  RedDeadRedemption(RDR)\n",
      "label\n",
      "Positive    876\n",
      "Neutral     756\n",
      "Negative    289\n",
      "Name: count, dtype: int64\n",
      "entity:  TomClancysGhostRecon\n",
      "label\n",
      "Negative    880\n",
      "Neutral     759\n",
      "Positive    601\n",
      "Name: count, dtype: int64\n",
      "entity:  TomClancysRainbowSix\n",
      "label\n",
      "Negative    1101\n",
      "Neutral      607\n",
      "Positive     487\n",
      "Name: count, dtype: int64\n",
      "entity:  Verizon\n",
      "label\n",
      "Negative    1067\n",
      "Neutral      549\n",
      "Positive     511\n",
      "Name: count, dtype: int64\n",
      "entity:  WorldOfCraft\n",
      "label\n",
      "Neutral     1001\n",
      "Positive     710\n",
      "Negative     327\n",
      "Name: count, dtype: int64\n",
      "entity:  Xbox(Xseries)\n",
      "label\n",
      "Positive    742\n",
      "Neutral     403\n",
      "Negative    355\n",
      "Name: count, dtype: int64\n",
      "entity:  johnson&johnson\n",
      "label\n",
      "Neutral     996\n",
      "Negative    808\n",
      "Positive    252\n",
      "Name: count, dtype: int64\n"
     ]
    }
   ],
   "source": [
    "for key, group in processed_grouped_df:\n",
    "    print(\"entity: \", key)\n",
    "    print(group['label'].value_counts())\n"
   ]
  },
  {
   "cell_type": "markdown",
   "id": "d789085c-7e65-459d-b5d3-da12cae9f672",
   "metadata": {},
   "source": [
    "# Covariance Analysis Between Word and Label"
   ]
  },
  {
   "cell_type": "code",
   "execution_count": 141,
   "id": "3b16c3e0-5604-41a8-bb8d-0bbac5399e64",
   "metadata": {},
   "outputs": [],
   "source": [
    "group = processed_grouped_df.get_group('TomClancysRainbowSix')"
   ]
  },
  {
   "cell_type": "markdown",
   "id": "1037281a-1db8-416b-bcbb-f80e68b9ad7b",
   "metadata": {},
   "source": [
    "## Tokenization With Binary Presence"
   ]
  },
  {
   "cell_type": "code",
   "execution_count": 144,
   "id": "10617128-0ce0-460d-b324-239ffc0e4fb1",
   "metadata": {},
   "outputs": [],
   "source": [
    "vectorizer = CountVectorizer(binary=True)\n",
    "word_matrix = vectorizer.fit_transform(group['text']).toarray()\n",
    "words_df = pd.DataFrame(word_matrix, columns=vectorizer.get_feature_names_out())"
   ]
  },
  {
   "cell_type": "code",
   "execution_count": 145,
   "id": "269190e6-d8a2-496d-a657-30fa899f4475",
   "metadata": {},
   "outputs": [
    {
     "name": "stdout",
     "output_type": "stream",
     "text": [
      "<class 'pandas.core.frame.DataFrame'>\n",
      "RangeIndex: 2195 entries, 0 to 2194\n",
      "Columns: 2885 entries, 00 to zwykv8qghp\n",
      "dtypes: int64(2885)\n",
      "memory usage: 48.3 MB\n"
     ]
    }
   ],
   "source": [
    "words_df.info()"
   ]
  },
  {
   "cell_type": "code",
   "execution_count": 146,
   "id": "2ee4490f-7c07-4b5e-ad24-cf120a8922db",
   "metadata": {},
   "outputs": [],
   "source": [
    "words_df['encoded_label'] = group['encoded_label'].values"
   ]
  },
  {
   "cell_type": "code",
   "execution_count": 147,
   "id": "85e6c4b9-cc5e-43de-8521-e74c3465bfdf",
   "metadata": {},
   "outputs": [
    {
     "name": "stdout",
     "output_type": "stream",
     "text": [
      "<class 'pandas.core.series.Series'>\n",
      "RangeIndex: 2195 entries, 0 to 2194\n",
      "Series name: encoded_label\n",
      "Non-Null Count  Dtype  \n",
      "--------------  -----  \n",
      "2195 non-null   float64\n",
      "dtypes: float64(1)\n",
      "memory usage: 17.3 KB\n"
     ]
    }
   ],
   "source": [
    "words_df['encoded_label'].info()"
   ]
  },
  {
   "cell_type": "code",
   "execution_count": 148,
   "id": "32f0e50b-d9cd-4a83-82e6-9b96588a8e48",
   "metadata": {},
   "outputs": [
    {
     "data": {
      "text/plain": [
       "encoded_label\n",
       "0.0    1101\n",
       "1.0     607\n",
       "2.0     487\n",
       "Name: count, dtype: int64"
      ]
     },
     "execution_count": 148,
     "metadata": {},
     "output_type": "execute_result"
    }
   ],
   "source": [
    "words_df['encoded_label'].value_counts()"
   ]
  },
  {
   "cell_type": "markdown",
   "id": "81d5030b-9085-4411-8ab0-c635365b7d12",
   "metadata": {},
   "source": [
    "## Calculate Pearson Correlation Coefficient Between Each Word and Label"
   ]
  },
  {
   "cell_type": "code",
   "execution_count": 149,
   "id": "85afd34a-63e7-4a73-9db3-7d6f579d610e",
   "metadata": {},
   "outputs": [],
   "source": [
    "correlations = {}\n",
    "for word in vectorizer.get_feature_names_out():\n",
    "    corr, _ = pearsonr(words_df[word], words_df['encoded_label'])\n",
    "    correlations[word] = corr"
   ]
  },
  {
   "cell_type": "code",
   "execution_count": 150,
   "id": "6ffc612d-1b4c-4c43-9172-c333afcdce39",
   "metadata": {},
   "outputs": [],
   "source": [
    "sorted_correlations_negative = sorted(correlations.items(), key=lambda x: abs(x[1]), reverse=True)"
   ]
  },
  {
   "cell_type": "code",
   "execution_count": 151,
   "id": "ed3450fd-89eb-47e0-8932-4ffad925fdcf",
   "metadata": {},
   "outputs": [
    {
     "name": "stdout",
     "output_type": "stream",
     "text": [
      "top ten words associated with negative sentiment\n",
      "Word: rainbow6game, Correlation: -0.46\n",
      "Word: fix, Correlation: -0.28\n",
      "Word: love, Correlation: 0.26\n",
      "Word: game, Correlation: -0.25\n",
      "Word: the, Correlation: -0.22\n",
      "Word: servers, Correlation: -0.21\n",
      "Word: can, Correlation: -0.20\n",
      "Word: ubisoftsupport, Correlation: -0.19\n",
      "Word: why, Correlation: -0.19\n",
      "Word: ubisoft, Correlation: -0.19\n"
     ]
    }
   ],
   "source": [
    "print(\"top ten words associated with negative sentiment\")\n",
    "for word, corr in sorted_correlations_negative[:10]:\n",
    "    print(f\"Word: {word}, Correlation: {corr:.2f}\")"
   ]
  },
  {
   "cell_type": "code",
   "execution_count": 131,
   "id": "62b72264-da0a-4240-8ef3-9e97cc6a7bc6",
   "metadata": {},
   "outputs": [
    {
     "name": "stdout",
     "output_type": "stream",
     "text": [
      "top ten words associated with positive sentiment\n",
      "Word: talk, Correlation: -0.00\n",
      "Word: possible, Correlation: -0.00\n",
      "Word: charged, Correlation: -0.00\n",
      "Word: goes, Correlation: -0.00\n",
      "Word: poppy, Correlation: 0.00\n",
      "Word: and, Correlation: 0.00\n",
      "Word: decision, Correlation: 0.00\n",
      "Word: very, Correlation: -0.00\n",
      "Word: through, Correlation: -0.00\n",
      "Word: any, Correlation: 0.00\n"
     ]
    }
   ],
   "source": [
    "print(\"top ten words associated with positive sentiment\")\n",
    "for word, corr in sorted_correlations_negative[-10:]:\n",
    "    print(f\"Word: {word}, Correlation: {corr:.2f}\")"
   ]
  }
 ],
 "metadata": {
  "kernelspec": {
   "display_name": "Python 3 (ipykernel)",
   "language": "python",
   "name": "python3"
  },
  "language_info": {
   "codemirror_mode": {
    "name": "ipython",
    "version": 3
   },
   "file_extension": ".py",
   "mimetype": "text/x-python",
   "name": "python",
   "nbconvert_exporter": "python",
   "pygments_lexer": "ipython3",
   "version": "3.11.6"
  }
 },
 "nbformat": 4,
 "nbformat_minor": 5
}
